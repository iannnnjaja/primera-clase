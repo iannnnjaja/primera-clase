{
  "nbformat": 4,
  "nbformat_minor": 0,
  "metadata": {
    "colab": {
      "provenance": [],
      "authorship_tag": "ABX9TyPR6iWjG6Z2ZfsdxpcMPQAl",
      "include_colab_link": true
    },
    "kernelspec": {
      "name": "python3",
      "display_name": "Python 3"
    },
    "language_info": {
      "name": "python"
    }
  },
  "cells": [
    {
      "cell_type": "markdown",
      "metadata": {
        "id": "view-in-github",
        "colab_type": "text"
      },
      "source": [
        "<a href=\"https://colab.research.google.com/github/iannnnjaja/primera-clase/blob/main/Tareaaa.ipynb\" target=\"_parent\"><img src=\"https://colab.research.google.com/assets/colab-badge.svg\" alt=\"Open In Colab\"/></a>"
      ]
    },
    {
      "cell_type": "code",
      "source": [
        "\n",
        "\n",
        "def area_triangulo():\n",
        "\n",
        "    global resultado_area\n",
        "    while True:\n",
        "        try:\n",
        "            a = float(input(\"Ingresa el lado a: \"))\n",
        "            b = float(input(\"Ingresa el lado b: \"))\n",
        "            c = float(input(\"Ingresa el lado c: \"))\n",
        "\n",
        "\n",
        "            if a <= 0 or b <= 0 or c <= 0:\n",
        "                continue\n",
        "\n",
        "\n",
        "            if (a + b > c) and (a + c > b) and (b + c > a):\n",
        "                break\n",
        "\n",
        "        except ValueError:\n",
        "            continue\n",
        "\n",
        "\n",
        "    s = (a + b + c) / 2\n",
        "    area = (s * (s - a) * (s - b) * (s - c)) ** 0.5\n",
        "\n",
        "    resultado_area = area\n",
        "    print(f\"Semiperímetro: {s}\")\n",
        "    print(f\"Área: {area}\")\n",
        "\n",
        "area_triangulo()"
      ],
      "metadata": {
        "id": "2vIGO1y90DYn"
      },
      "execution_count": null,
      "outputs": []
    },
    {
      "cell_type": "code",
      "source": [],
      "metadata": {
        "id": "XPUyAelC0jZn"
      },
      "execution_count": null,
      "outputs": []
    }
  ]
}