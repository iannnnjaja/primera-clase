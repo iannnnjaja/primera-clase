{
  "nbformat": 4,
  "nbformat_minor": 0,
  "metadata": {
    "colab": {
      "provenance": [],
      "authorship_tag": "ABX9TyPHMw+N8UBv0+mGnwas2VBw",
      "include_colab_link": true
    },
    "kernelspec": {
      "name": "python3",
      "display_name": "Python 3"
    },
    "language_info": {
      "name": "python"
    }
  },
  "cells": [
    {
      "cell_type": "markdown",
      "metadata": {
        "id": "view-in-github",
        "colab_type": "text"
      },
      "source": [
        "<a href=\"https://colab.research.google.com/github/iannnnjaja/primera-clase/blob/main/tarea3computo.ipynb\" target=\"_parent\"><img src=\"https://colab.research.google.com/assets/colab-badge.svg\" alt=\"Open In Colab\"/></a>"
      ]
    },
    {
      "cell_type": "markdown",
      "source": [
        "1.- Dolares americanos a diferentes monedas."
      ],
      "metadata": {
        "id": "iw2CifjiFQzd"
      }
    },
    {
      "cell_type": "code",
      "execution_count": 1,
      "metadata": {
        "colab": {
          "base_uri": "https://localhost:8080/"
        },
        "id": "ZOLIuRuvEct-",
        "outputId": "08241d8b-d0ad-4dc1-d7b9-96d86e0eede4"
      },
      "outputs": [
        {
          "output_type": "stream",
          "name": "stdout",
          "text": [
            "Ingrese la cantidad de dolares:5\n",
            "La cantidad de pesos mexicanos es 92.0\n",
            "La cantidad de euros es 4.25\n",
            "La cantidad de libras esterlinas es -74.0\n",
            "La cantidad de yuanes es 35.65\n",
            "La cantidad de rublos es 411.1\n"
          ]
        }
      ],
      "source": [
        "D=float(input(\"Ingrese la cantidad de dolares:\"))\n",
        "pm= D*18.4 #dolar a pesos mexicanos\n",
        "print(\"La cantidad de pesos mexicanos es\", pm)\n",
        "euros= D*0.85 #dolar a euros\n",
        "print(\"La cantidad de euros es\", euros)\n",
        "lb= D*0-74 #dolar a libras esterlinas\n",
        "print(\"La cantidad de libras esterlinas es\", lb)\n",
        "yuanes= D*7.13 #dolar a yuan chino\n",
        "print(\"La cantidad de yuanes es\", yuanes)\n",
        "rublos= D*82.22 #dolar a rublos rusos\n",
        "print(\"La cantidad de rublos es\", rublos)"
      ]
    },
    {
      "cell_type": "markdown",
      "source": [
        "2.- Dos numeros y sus operaciones basicas"
      ],
      "metadata": {
        "id": "TROvQJUZKPr8"
      }
    },
    {
      "cell_type": "code",
      "source": [
        "a=float(input(\"Ingrese el valor de a:\"))\n",
        "b=float(input(\"Ingrese el valor de b:\"))\n",
        "suma= a+b\n",
        "print(\"La suma es\", suma)\n",
        "resta= a-b\n",
        "print(\"La resta es\", resta)\n",
        "multiplicacion= a*b\n",
        "print(\"La multiplicacion es\", multiplicacion)\n",
        "division= a/b\n",
        "print(\"La division es\", division)\n",
        "potencia1=a**b\n",
        "print(\"La potencia es\", potencia1)\n",
        "potencia2=b**a\n",
        "print(\"La potencia es\", potencia2)\n",
        "raiz1=a**(1/b)\n",
        "print(\"La raiz es\", raiz1)\n",
        "raiz2=b**(1/a)\n",
        "print(\"La raiz es\", raiz2)"
      ],
      "metadata": {
        "colab": {
          "base_uri": "https://localhost:8080/"
        },
        "id": "FS44hgiHFQBC",
        "outputId": "e92b5b4a-af9b-4d51-e482-0cf106ad93ca"
      },
      "execution_count": 2,
      "outputs": [
        {
          "output_type": "stream",
          "name": "stdout",
          "text": [
            "Ingrese el valor de a:4\n",
            "Ingrese el valor de b:5\n",
            "La suma es 9.0\n",
            "La resta es -1.0\n",
            "La multiplicacion es 20.0\n",
            "La division es 0.8\n",
            "La potencia es 1024.0\n",
            "La potencia es 625.0\n",
            "La raiz es 1.3195079107728942\n",
            "La raiz es 1.4953487812212205\n"
          ]
        }
      ]
    },
    {
      "cell_type": "markdown",
      "source": [
        "3.- Precio final de un producto al aplicar un descuento."
      ],
      "metadata": {
        "id": "vIBSqxVjFKyS"
      }
    },
    {
      "cell_type": "code",
      "source": [
        "Producto=float(input(\"Ingrese el precio del producto:\"))\n",
        "Descuento=float(input(\"ingrese el porcentaje de descuento:\"))\n",
        "precio_final=Producto*(1-Descuento/100)\n",
        "print(\"el precio final del producto es:\", precio_final)"
      ],
      "metadata": {
        "colab": {
          "base_uri": "https://localhost:8080/"
        },
        "id": "A1cSgAmhM7SG",
        "outputId": "5404e4a1-df0f-443b-bfbd-f66cfc232cd8"
      },
      "execution_count": 3,
      "outputs": [
        {
          "output_type": "stream",
          "name": "stdout",
          "text": [
            "Ingrese el precio del producto:50\n",
            "ingrese el porcentaje de descuento:10\n",
            "el precio final del producto es: 45.0\n"
          ]
        }
      ]
    },
    {
      "cell_type": "markdown",
      "source": [
        "4.-Conversión de coordenadas y localización geográfica."
      ],
      "metadata": {
        "id": "pXJsjpnwRj4J"
      }
    },
    {
      "cell_type": "code",
      "source": [
        "#Coordenada 1\n",
        "#Latitud: 40° 41' 21\" N\n",
        "lat1_grados=40\n",
        "lat1_minutos=41\n",
        "lat1_segundos=21\n",
        "hemisferio_lat1=\"N\"\n",
        "#Longitud: 74° 2' 40\" W\n",
        "lon1_grados=74\n",
        "lon1_minutos=2\n",
        "lon1_segundos=40\n",
        "hemisferio_lon1=\"W\"\n",
        "#Conversion a decimal\n",
        "Decimal_lat1=lat1_grados+lat1_minutos/60+lat1_segundos/3600\n",
        "if hemisferio_lat1==\"S\":\n",
        "    Decimal_lat1=-Decimal_lat1\n",
        "Decimal_lon1=lon1_grados+lon1_minutos/60+lon1_segundos/3600\n",
        "if hemisferio_lon1==\"W\":\n",
        "    Decimal_lon1=-Decimal_lon1\n",
        "#Coordenada 2\n",
        "#Latitud: 48° 51' 12\" N\n",
        "lat2_grados=48\n",
        "lat2_minutos=51\n",
        "lat2_segundos=12\n",
        "hemisferio_lat2=\"N\"\n",
        "#Longitud: 2° 20' 55\" E\n",
        "lon2_grados=2\n",
        "lon2_minutos=20\n",
        "lon2_segundos=55\n",
        "hemisferio_lon2=\"E\"\n",
        "#Conversion a decimal\n",
        "Decimal_lat2=lat2_grados+lat2_minutos/60+lat2_segundos/3600\n",
        "if hemisferio_lat2==\"S\":\n",
        "    Decimal_lat2=-Decimal_lat2\n",
        "Decimal_lon2=lon2_grados+lon2_minutos/60+lon2_segundos/3600\n",
        "if hemisferio_lon2==\"W\":\n",
        "    Decimal_lon2=-Decimal_lon2\n",
        "#Coordenada 3\n",
        "#Latitud: 34° 3' 8\" S\n",
        "lat3_grados=34\n",
        "lat3_minutos=3\n",
        "lat3_segundos=8\n",
        "hemisferio_lat3=\"S\"\n",
        "#Longitud: 151° 12' 33\" E\n",
        "lon3_grados=151\n",
        "lon3_minutos=12\n",
        "lon3_segundos=33\n",
        "hemisferio_lon3=\"E\"\n",
        "#Conversion a decimal\n",
        "Decimal_lat3=lat3_grados+lat3_minutos/60+lat3_segundos/3600\n",
        "if hemisferio_lat3==\"S\":\n",
        "    Decimal_lat3= -Decimal_lat3\n",
        "Decimal_lon3=lon3_grados+lon3_minutos/60+lon3_segundos/3600\n",
        "if hemisferio_lon3==\"W\":\n",
        "    Decimal_lon3= -Decimal_lon3\n",
        "#RESULTADOS\n",
        "print(\"La coordenada 1 es:\", round(Decimal_lat1,3), round(Decimal_lon1,3))\n",
        "print(\"Lugar aproximado: Estatua de la Libertad, Nueva York (EU)\")\n",
        "print(\"La coordenada 2 es:\", round(Decimal_lat2,3), round(Decimal_lon2,3))\n",
        "print(\"Lugar aproximado: Catedral de Notre-Dame, Paris, Francia\")\n",
        "print(\"La coordenada 3 es:\", round(Decimal_lat3,3), round(Decimal_lon3,3))\n",
        "print(\"Lugar aproximado: Sidney, Australia\")\n",
        "\n"
      ],
      "metadata": {
        "colab": {
          "base_uri": "https://localhost:8080/"
        },
        "id": "DdtcyZoSR7Uo",
        "outputId": "1ccbc351-8f8d-45f1-942d-387f5272341e"
      },
      "execution_count": 7,
      "outputs": [
        {
          "output_type": "stream",
          "name": "stdout",
          "text": [
            "La coordenada 1 es: 40.689 -74.044\n",
            "Lugar aproximado: Estatua de la Libertad, Nueva York (EU)\n",
            "La coordenada 2 es: 48.853 2.349\n",
            "Lugar aproximado: Catedral de Notre-Dame, Paris, Francia\n",
            "La coordenada 3 es: -34.052 151.209\n",
            "Lugar aproximado: Sidney, Australia\n"
          ]
        }
      ]
    },
    {
      "cell_type": "markdown",
      "source": [
        "5.- Energia Cinetica, Potencial y Mecanica."
      ],
      "metadata": {
        "id": "DOi-H1zifvuu"
      }
    },
    {
      "cell_type": "code",
      "source": [
        "m=2 #kilogramos. Masa del objeto\n",
        "h=0.1 #metros. altura del objeto\n",
        "v=3 #m/s. velocidad del objeto\n",
        "g=9.8 #m/s^2. Gravedad de la Tierra\n",
        "Ec= 1/2*m*v**2 #formula de la energia cinetica\n",
        "print(Ec, \"Joules\")\n",
        "Ep= m*g*h #formula de la energia potencial\n",
        "print(Ep, \"Joules\")\n",
        "Em= Ec+Ep #formula de la energia total\n",
        "print(Em, \"Joules\")"
      ],
      "metadata": {
        "colab": {
          "base_uri": "https://localhost:8080/"
        },
        "id": "DjqXkkzxf80T",
        "outputId": "8a27b67a-fc6a-42e1-ed5c-185ad49cf7c1"
      },
      "execution_count": 9,
      "outputs": [
        {
          "output_type": "stream",
          "name": "stdout",
          "text": [
            "9.0 Joules\n",
            "1.9600000000000002 Joules\n",
            "10.96 Joules\n"
          ]
        }
      ]
    },
    {
      "cell_type": "markdown",
      "source": [
        "6.- Un numero es par o es impar."
      ],
      "metadata": {
        "id": "okOPLfWSh2qO"
      }
    },
    {
      "cell_type": "code",
      "source": [
        "a=float(input(\"ingrese un numero:\"))\n",
        "if a % 2 == 0:\n",
        "  print(\"el numero es par\")\n",
        "else:\n",
        "  print(\"el numero es impar\")"
      ],
      "metadata": {
        "colab": {
          "base_uri": "https://localhost:8080/"
        },
        "id": "OtEGZ4_viBKh",
        "outputId": "2a74a220-e93a-4c60-9265-4fa17ff693c8"
      },
      "execution_count": 10,
      "outputs": [
        {
          "output_type": "stream",
          "name": "stdout",
          "text": [
            "ingrese un numero:6\n",
            "el numero es par\n"
          ]
        }
      ]
    },
    {
      "cell_type": "markdown",
      "source": [
        "7.- Tipo de triangulo."
      ],
      "metadata": {
        "id": "-0u01IS6jFId"
      }
    },
    {
      "cell_type": "code",
      "source": [
        "#Solicitar los lados del triangulo\n",
        "a=float(input(\"Ingrese el valor del lado a:\"))\n",
        "b=float(input(\"Ingrese el valor del lado b:\"))\n",
        "c=float(input(\"Ingrese el valor del lado c:\"))\n",
        "#Para validar que son positivos\n",
        "if a<=0 or b<=0 or c<=0:\n",
        "    print(\"Los lados del triangulo deben ser positivos\")\n",
        "else:\n",
        "    #Validando la desigualdad del triangulo\n",
        "    if a+b>=c and a+c>=b and b+c>=a:\n",
        "        print(\"El triangulo es valido\")\n",
        "    else:\n",
        "        print(\"Escoge otros valores\")\n",
        "if a==b and b==c:\n",
        "  print(\"El triangulo es equilatero\")\n",
        "elif a==b or b==c or a==c:\n",
        "  print(\"El triangulo es isoceles\")\n",
        "else:\n",
        "  print(\"El triangulo es escaleno\")"
      ],
      "metadata": {
        "colab": {
          "base_uri": "https://localhost:8080/"
        },
        "id": "Z-VLMPZMjYxw",
        "outputId": "56405d57-b6c0-4e55-97ff-df908c20440a"
      },
      "execution_count": 12,
      "outputs": [
        {
          "output_type": "stream",
          "name": "stdout",
          "text": [
            "Ingrese el valor del lado a:5\n",
            "Ingrese el valor del lado b:5\n",
            "Ingrese el valor del lado c:5\n",
            "El triangulo es valido\n",
            "El triangulo es equilatero\n"
          ]
        }
      ]
    },
    {
      "cell_type": "markdown",
      "source": [
        "8.- ¿Cuál de los tres números es mayor?"
      ],
      "metadata": {
        "id": "CCVjzpvilLxx"
      }
    },
    {
      "cell_type": "code",
      "source": [
        "a=float(input(\"Ingrese el valor de a:\"))\n",
        "b=float(input(\"Ingrese el valor de b:\"))\n",
        "c=float(input(\"Ingrese el valor de c:\"))\n",
        "if a>=b and a>=c:\n",
        "  print(\"El numero mayor es a\")\n",
        "elif b>=a and b>=c:\n",
        "  print(\"El numero mayor es b\")\n",
        "elif c>=a and c>=b:\n",
        "  print(\"El numero mayor es c\")\n"
      ],
      "metadata": {
        "colab": {
          "base_uri": "https://localhost:8080/"
        },
        "id": "StfrabGdlZIC",
        "outputId": "4bc6f602-89b4-4b95-9fb3-e5678a1b900e"
      },
      "execution_count": 13,
      "outputs": [
        {
          "output_type": "stream",
          "name": "stdout",
          "text": [
            "Ingrese el valor de a:6\n",
            "Ingrese el valor de b:4\n",
            "Ingrese el valor de c:3\n",
            "El numero mayor es a\n"
          ]
        }
      ]
    },
    {
      "cell_type": "markdown",
      "source": [
        "9.-¿Las rectas se intersectan, son paralelas o coincidentes?"
      ],
      "metadata": {
        "id": "OMQT0VYpmKNm"
      }
    },
    {
      "cell_type": "code",
      "source": [
        "#Coeficientes de las rectas\n",
        "m1=float(input(\"Ingrese el coeficiente de la pendiente de la recta 1:\"))\n",
        "b1=float(input(\"Ingrese el coeficiente de la ordenada al origen de la recta 1:\"))\n",
        "m2=float(input(\"Ingrese el coeficiente de la pendiente de la recta 2:\"))\n",
        "b2=float(input(\"Ingrese el coeficiente de la ordenada al origen de la recta 2:\"))\n",
        "if m1==m2:\n",
        "  if b1==b2:\n",
        "    print(\"Las rectas son coincidentes\")\n",
        "  else:\n",
        "    print(\"Las rectas son paralelas\")\n",
        "else:\n",
        "  print(\"Las rectas se intersectan\")\n"
      ],
      "metadata": {
        "colab": {
          "base_uri": "https://localhost:8080/"
        },
        "id": "x7wxHklCmZaM",
        "outputId": "f3c24cf3-5739-4f74-def4-02ef83895050"
      },
      "execution_count": 14,
      "outputs": [
        {
          "output_type": "stream",
          "name": "stdout",
          "text": [
            "Ingrese el coeficiente de la pendiente de la recta 1:12\n",
            "Ingrese el coeficiente de la ordenada al origen de la recta 1:21\n",
            "Ingrese el coeficiente de la pendiente de la recta 2:5\n",
            "Ingrese el coeficiente de la ordenada al origen de la recta 2:7\n",
            "Las rectas se intersectan\n"
          ]
        }
      ]
    },
    {
      "cell_type": "markdown",
      "source": [
        "10.- ¿El año es bisiesto o no?"
      ],
      "metadata": {
        "id": "0Algaepwoaqn"
      }
    },
    {
      "cell_type": "code",
      "source": [
        "año=int(input(\"Ingrese el año:\"))\n",
        "if (año % 4 == 0 and not año % 100 == 0) or (año % 400 == 0):\n",
        "  print(\"El año es bisiesto\")\n",
        "else:\n",
        "  print(\"El año no es bisiesto\")"
      ],
      "metadata": {
        "colab": {
          "base_uri": "https://localhost:8080/"
        },
        "id": "oIhOUNsVoiZT",
        "outputId": "a7304bb9-0caa-431b-c4d6-aa84fb58a0fa"
      },
      "execution_count": 15,
      "outputs": [
        {
          "output_type": "stream",
          "name": "stdout",
          "text": [
            "Ingrese el año:2007\n",
            "El año no es bisiesto\n"
          ]
        }
      ]
    }
  ]
}