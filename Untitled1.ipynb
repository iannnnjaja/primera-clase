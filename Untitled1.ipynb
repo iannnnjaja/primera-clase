{
  "nbformat": 4,
  "nbformat_minor": 0,
  "metadata": {
    "colab": {
      "provenance": [],
      "authorship_tag": "ABX9TyOf0hndSG02Qtn+wy1ZFcuv",
      "include_colab_link": true
    },
    "kernelspec": {
      "name": "python3",
      "display_name": "Python 3"
    },
    "language_info": {
      "name": "python"
    }
  },
  "cells": [
    {
      "cell_type": "markdown",
      "metadata": {
        "id": "view-in-github",
        "colab_type": "text"
      },
      "source": [
        "<a href=\"https://colab.research.google.com/github/iannnnjaja/primera-clase/blob/main/Untitled1.ipynb\" target=\"_parent\"><img src=\"https://colab.research.google.com/assets/colab-badge.svg\" alt=\"Open In Colab\"/></a>"
      ]
    },
    {
      "cell_type": "code",
      "source": [
        "\n",
        "\n",
        "def area_triangulo():\n",
        "    \"\"\"\n",
        "    Función que solicita los lados de un triángulo,\n",
        "    valida que cumplan las condiciones y calcula el área.\n",
        "    \"\"\"\n",
        "    global resultado_area  # Comentario: uso de variable global\n",
        "\n",
        "    while True:\n",
        "        try:\n",
        "            a = float(input(\"Ingresa el lado a: \"))\n",
        "            b = float(input(\"Ingresa el lado b: \"))\n",
        "            c = float(input(\"Ingresa el lado c: \"))\n",
        "\n",
        "            # Validación de valores positivos\n",
        "            if a <= 0 or b <= 0 or c <= 0:\n",
        "                continue\n",
        "\n",
        "            # Verificar desigualdad triangular\n",
        "            if (a + b > c) and (a + c > b) and (b + c > a):\n",
        "                break\n",
        "\n",
        "        except ValueError:\n",
        "            continue\n",
        "\n",
        "    # Variables locales para los cálculos\n",
        "    s = (a + b + c) / 2  # semiperímetro\n",
        "    area = (s * (s - a) * (s - b) * (s - c)) ** 0.5\n",
        "\n",
        "    resultado_area = area\n",
        "    print(f\"Semiperímetro: {s}\")\n",
        "    print(f\"Área: {area}\")\n",
        "\n",
        "# Llamada a la función\n",
        "area_triangulo()"
      ],
      "metadata": {
        "id": "2vIGO1y90DYn"
      },
      "execution_count": null,
      "outputs": []
    },
    {
      "cell_type": "code",
      "source": [],
      "metadata": {
        "id": "XPUyAelC0jZn"
      },
      "execution_count": null,
      "outputs": []
    }
  ]
}